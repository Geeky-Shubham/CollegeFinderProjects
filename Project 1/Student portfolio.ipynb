{
 "cells": [
  {
   "cell_type": "markdown",
   "id": "6a63055d",
   "metadata": {},
   "source": [
    "# Welcome to Student Portfolio"
   ]
  },
  {
   "cell_type": "markdown",
   "id": "470a335c",
   "metadata": {},
   "source": [
    "Please fill you details as mentioned:"
   ]
  },
  {
   "cell_type": "code",
   "execution_count": 4,
   "id": "acc72e5f",
   "metadata": {},
   "outputs": [
    {
     "name": "stdout",
     "output_type": "stream",
     "text": [
      "Please Provide your name :- shubham\n",
      "Fill in your standard :-snj\n",
      "Division :-sjsb\n",
      "Roll:-88\n"
     ]
    }
   ],
   "source": [
    "Name = str(input(\"Please Provide your name :- \"))\n",
    "Std = str(input(\"Fill in your standard :-\"))\n",
    "Div = str(input(\"Division :-\"))\n",
    "Roll = int(input(\"Roll:-\"))"
   ]
  },
  {
   "cell_type": "markdown",
   "id": "3e76d4c2",
   "metadata": {},
   "source": [
    "Now, Fill in your marks for PCM out of 100"
   ]
  },
  {
   "cell_type": "code",
   "execution_count": 3,
   "id": "d446483f",
   "metadata": {},
   "outputs": [
    {
     "name": "stdout",
     "output_type": "stream",
     "text": [
      "Physics : 45\n",
      "Chemistry : 45\n",
      "Mathematics : 45\n"
     ]
    }
   ],
   "source": [
    "phy = int(input(\"Physics : \"))\n",
    "chem = int(input(\"Chemistry : \"))\n",
    "math = int(input(\"Mathematics : \"))"
   ]
  },
  {
   "cell_type": "markdown",
   "id": "b823cc87",
   "metadata": {},
   "source": [
    "Here your pecentage will be calculated "
   ]
  },
  {
   "cell_type": "code",
   "execution_count": 5,
   "id": "efa6ba1c",
   "metadata": {},
   "outputs": [
    {
     "name": "stdout",
     "output_type": "stream",
     "text": [
      "Your percenntage are:- Physics : 90.0\n",
      "Chemistry : 90.0\n",
      "Mathematics : 90.0\n"
     ]
    }
   ],
   "source": [
    "phypercent = str((phy/50)*100)\n",
    "chempercent = str((chem/50)*100)\n",
    "mathpercent = str((math/50)*100)\n",
    "print(\"Your percenntage are:- \" + \"Physics : \" + phypercent +\"\\n\" + \"Chemistry : \" + chempercent + \"\\n\" + \"Mathematics : \" + mathpercent)"
   ]
  }
 ],
 "metadata": {
  "kernelspec": {
   "display_name": "Python 3",
   "language": "python",
   "name": "python3"
  },
  "language_info": {
   "codemirror_mode": {
    "name": "ipython",
    "version": 3
   },
   "file_extension": ".py",
   "mimetype": "text/x-python",
   "name": "python",
   "nbconvert_exporter": "python",
   "pygments_lexer": "ipython3",
   "version": "3.8.8"
  }
 },
 "nbformat": 4,
 "nbformat_minor": 5
}
