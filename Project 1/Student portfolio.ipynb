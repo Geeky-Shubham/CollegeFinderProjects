{
 "cells": [
  {
   "cell_type": "markdown",
   "id": "d3325ac0",
   "metadata": {},
   "source": [
    "# Welcome to Student Portfolio"
   ]
  },
  {
   "cell_type": "markdown",
   "id": "26d37434",
   "metadata": {},
   "source": [
    "Please fill you details as mentioned:"
   ]
  },
  {
   "cell_type": "code",
   "execution_count": 4,
   "id": "0fd66423",
   "metadata": {},
   "outputs": [
    {
     "name": "stdout",
     "output_type": "stream",
     "text": [
      "Please Provide your name :- shubham\n",
      "Fill in your standard :-snj\n",
      "Division :-sjsb\n",
      "Roll:-88\n"
     ]
    }
   ],
   "source": [
    "Name = str(input(\"Please Provide your name :- \"))\n",
    "Std = str(input(\"Fill in your standard :-\"))\n",
    "Div = str(input(\"Division :-\"))\n",
    "Roll = int(input(\"Roll:-\"))"
   ]
  },
  {
   "cell_type": "markdown",
   "id": "5184bebd",
   "metadata": {},
   "source": [
    "Now, Fill in your marks for PCM out of 100"
   ]
  },
  {
   "cell_type": "code",
   "execution_count": 3,
   "id": "6d39bb63",
   "metadata": {},
   "outputs": [
    {
     "name": "stdout",
     "output_type": "stream",
     "text": [
      "Physics : 45\n",
      "Chemistry : 45\n",
      "Mathematics : 45\n"
     ]
    }
   ],
   "source": [
    "phy = int(input(\"Physics : \"))\n",
    "chem = int(input(\"Chemistry : \"))\n",
    "math = int(input(\"Mathematics : \"))"
   ]
  },
  {
   "cell_type": "markdown",
   "id": "cffe644b",
   "metadata": {},
   "source": [
    "Here your pecentage will be calculated "
   ]
  },
  {
   "cell_type": "code",
   "execution_count": 6,
   "id": "64633863",
   "metadata": {},
   "outputs": [
    {
     "name": "stdout",
     "output_type": "stream",
     "text": [
      "Your percentage are:- Physics : 90.0\n",
      "Chemistry : 90.0\n",
      "Mathematics : 90.0\n"
     ]
    }
   ],
   "source": [
    "PhyPercent = str((phy/50)*100)\n",
    "ChemPercent = str((chem/50)*100)\n",
    "MathPercent = str((math/50)*100)\n",
    "print(\"Your percentage are:- \" + \"Physics : \" + PhyPercent +\"\\n\" + \"Chemistry : \" + ChemPercent + \"\\n\" + \"Mathematics : \" + MathPercent)"
   ]
  },
  {
   "cell_type": "code",
   "execution_count": null,
   "id": "154bd3bf",
   "metadata": {},
   "outputs": [],
   "source": []
  }
 ],
 "metadata": {
  "kernelspec": {
   "display_name": "Python 3",
   "language": "python",
   "name": "python3"
  },
  "language_info": {
   "codemirror_mode": {
    "name": "ipython",
    "version": 3
   },
   "file_extension": ".py",
   "mimetype": "text/x-python",
   "name": "python",
   "nbconvert_exporter": "python",
   "pygments_lexer": "ipython3",
   "version": "3.8.8"
  }
 },
 "nbformat": 4,
 "nbformat_minor": 5
}
