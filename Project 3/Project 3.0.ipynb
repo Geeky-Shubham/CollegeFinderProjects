{
 "cells": [
  {
   "cell_type": "markdown",
   "id": "d7beb7ed",
   "metadata": {},
   "source": [
    "# Table Calculator."
   ]
  },
  {
   "cell_type": "code",
   "execution_count": 26,
   "id": "3a01ab9d",
   "metadata": {},
   "outputs": [
    {
     "name": "stdout",
     "output_type": "stream",
     "text": [
      "Enter number of your choice for calculating its table.12\n",
      "enter the number to which table is to printed12\n",
      "12 x 1 = 12\n",
      "12 x 2 = 24\n",
      "12 x 3 = 36\n",
      "12 x 4 = 48\n",
      "12 x 5 = 60\n",
      "12 x 6 = 72\n",
      "12 x 7 = 84\n",
      "12 x 8 = 96\n",
      "12 x 9 = 108\n",
      "12 x 10 = 120\n",
      "12 x 11 = 132\n",
      "12 x 12 = 144\n"
     ]
    }
   ],
   "source": [
    "# Multiplication table \n",
    "a = int(input(\"Enter number of your choice for calculating its table.\"))    # To take input from the user\n",
    "b=int(input(\"enter the number to which table is to printed\"))      \n",
    "\n",
    "# Iterate 10 times from i = 1 to 12\n",
    "for i in range(1, b+1):\n",
    "   print(a, 'x', i, '=', a*i)"
   ]
  },
  {
   "cell_type": "code",
   "execution_count": 23,
   "id": "b8c15e3a",
   "metadata": {},
   "outputs": [
    {
     "name": "stdout",
     "output_type": "stream",
     "text": [
      "enter table number7\n",
      "enter the number to which table is to printed12\n",
      "7 x 1 = 7\n",
      "7 x 2 = 14\n",
      "7 x 3 = 21\n",
      "7 x 4 = 28\n",
      "7 x 5 = 35\n",
      "7 x 6 = 42\n",
      "7 x 7 = 49\n",
      "7 x 8 = 56\n",
      "7 x 9 = 63\n",
      "7 x 10 = 70\n",
      "7 x 11 = 77\n",
      "7 x 12 = 84\n"
     ]
    }
   ],
   "source": [
    "#using while loop\n",
    "a=int(input(\"enter table number\"))\n",
    "b=int(input(\"enter the number to which table is to printed\"))\n",
    "i=1\n",
    "while i<=b:\n",
    "    print(a,\"x\",i,\"=\",a*i)\n",
    "    i=i+1"
   ]
  },
  {
   "cell_type": "code",
   "execution_count": null,
   "id": "a70adfd3",
   "metadata": {},
   "outputs": [],
   "source": []
  }
 ],
 "metadata": {
  "kernelspec": {
   "display_name": "Python 3",
   "language": "python",
   "name": "python3"
  },
  "language_info": {
   "codemirror_mode": {
    "name": "ipython",
    "version": 3
   },
   "file_extension": ".py",
   "mimetype": "text/x-python",
   "name": "python",
   "nbconvert_exporter": "python",
   "pygments_lexer": "ipython3",
   "version": "3.8.8"
  }
 },
 "nbformat": 4,
 "nbformat_minor": 5
}
